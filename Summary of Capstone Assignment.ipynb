{
 "cells": [
  {
   "cell_type": "markdown",
   "metadata": {},
   "source": [
    "# Summary of Capstone Assignment"
   ]
  },
  {
   "cell_type": "markdown",
   "metadata": {},
   "source": [
    "Restaurants are a notoriously difficult business to own or operate. Not only is it a relatively capital and employee-intensive business, restaurants are also highly regulated, low margin and in most cases have a plethora of competition to deal with. There are more dining establishments and more diners now than during any other time in history; the National Restaurant Association reports over 1 million restaurant locations in the U.S. alone, a particular boon considering more than half the American population visits at least one of them each week. To fill a niche and remain relevant, prospective, as well as established, restaurants have to hedge their bets with well-rounded and well-directed dataset. Data science provides valuable insights regarding market trends and evolving consumer lifestyles so that restaurateurs can better address and meet public demand.\n",
    "\n",
    "# Business Problem\n",
    "\n",
    "No single restaurant is ever going to appeal to everyone. Some people like quiet, intimate settings; others prefer boisterous ones. Some people want to bring their kids along; others want to dine alone. The preferences are as varied as the possible offerings, with specific generational cohorts preferring one thing, “people who like Indian food” preferring another and everyone else liking a million other things in between.\n",
    "\n",
    "My client, a successful Indian restaurant chain in Malaysia is looking to expand operation into North America through New York (NYC).\n",
    "\n",
    "# Problem Statement\n",
    "\n",
    "To locate and recommend to the client which neighbourhood in New York City will be best choice to start a restaurant.\n",
    "\n",
    "Before opening a new restaurant in NYC, the data science team will provide data and insight to:-\n",
    "\n",
    "Part 1: NYC Population & Demographic characteristics\n",
    "Data source:https://en.wikipedia.org/wiki/New_York_City ; \n",
    "\n",
    "Part 2: Who are the competitors in that location?\n",
    "Data source:https://cocl.us/new_york_dataset and Foursquare API. \n",
    "\n",
    "Recommendations\n",
    "\n",
    "Midtown or Tribeca in Manhattan would be the best choice to start an Indian restaurant given that:\n",
    "\n",
    "1. it is the third most populous urban area in New York City (NYC).\n",
    "2. it has a population density of 27,826 people per square km, highest of any borough in the United States.\n",
    "3. it has the second highest Asian ethnic minority population in NYC.\n",
    "4. it has some of the top rated Indian restaurants located in that area (i.e. ready-made customer base)."
   ]
  },
  {
   "cell_type": "code",
   "execution_count": null,
   "metadata": {},
   "outputs": [],
   "source": []
  }
 ],
 "metadata": {
  "kernelspec": {
   "display_name": "Python 3",
   "language": "python",
   "name": "python3"
  },
  "language_info": {
   "codemirror_mode": {
    "name": "ipython",
    "version": 3
   },
   "file_extension": ".py",
   "mimetype": "text/x-python",
   "name": "python",
   "nbconvert_exporter": "python",
   "pygments_lexer": "ipython3",
   "version": "3.7.6"
  }
 },
 "nbformat": 4,
 "nbformat_minor": 4
}
