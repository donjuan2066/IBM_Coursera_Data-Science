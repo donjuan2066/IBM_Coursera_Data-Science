{
 "cells": [
  {
   "cell_type": "markdown",
   "metadata": {},
   "source": [
    "# Capstone Project - The Battle of Neighborhoods (Week 1)"
   ]
  },
  {
   "cell_type": "markdown",
   "metadata": {},
   "source": [
    "This notebook is intended to serve as the basis for a Capstone Project within the course as a Data Scientist. The following items are going to be discussed thoughout this notebook:\n",
    "\n",
    "    1. A description of the Background\n",
    "    2. A discussion of the Problem\n",
    "    3. Objective of the Project \n",
    "    4. Definition of a succesful recommendation"
   ]
  },
  {
   "cell_type": "markdown",
   "metadata": {},
   "source": [
    "# Description of the Background"
   ]
  },
  {
   "cell_type": "markdown",
   "metadata": {},
   "source": [
    "The City of Berlin is one of the most attractive cities wordlwide. It is diverse and is the home to some of the most famous startups in Germany. It is multicultural. It provides lot of business oppourtunities and business friendly environment, especially for startups. It has attracted many different players into the market. It is a global hub of business and commerce. \n",
    "\n",
    "This also means that the market is highly competitive. As it is highly developed city so cost of doing business is also considered high. Thus, any new business venture or expansion needs to be analysed carefully. The insights derived from analysis will give good understanding of the business environment which help in strategically targeting the market. This will help in reduction of risk. And the Return on Investment will be reasonable."
   ]
  },
  {
   "cell_type": "markdown",
   "metadata": {},
   "source": [
    "# Description of the Problem"
   ]
  },
  {
   "cell_type": "markdown",
   "metadata": {},
   "source": [
    "The business Idea is to apple the previously learned knowledge in order to find a perfect location for a restaurant. But in oder to do we have to take several factors into consideration. So the data that we will need during this exercise is the following:\n",
    "\n",
    "- Berlin Population\n",
    "- Berlin Demographics\n",
    "- Are there any Farmers Markets, Wholesale markets etc nearby so that the ingredients can be purchased fresh to maintain quality and cost?\n",
    "- Are there any venues like Gyms, Entertainmnet zones, Parks etc nearby where floating population is high etc\n",
    "- Who are the competitors in that location?\n",
    "- Cuisine served / Menu of the competitors\n",
    "- Segmentation of the Borough\n",
    "- Untapped markets\n",
    "- Saturated markets etc\n",
    "\n",
    "The list can go on forever but in order to make this capstone managable, we will stop here.\n",
    "\n"
   ]
  },
  {
   "cell_type": "markdown",
   "metadata": {},
   "source": [
    "# Objective of the Project"
   ]
  },
  {
   "cell_type": "markdown",
   "metadata": {},
   "source": [
    "The objective is to locate and recommend to the management which neighborhood of Berlin will be best choice to start a restaurant. The rationale why the recommendation was made should also become visible."
   ]
  },
  {
   "cell_type": "markdown",
   "metadata": {},
   "source": [
    "# Definition of a succesful recommendation"
   ]
  },
  {
   "cell_type": "markdown",
   "metadata": {},
   "source": [
    "The success criteria of the project will be a good recommendation of borough/Neighborhood choice for a restaurant to start, based on Lack of such restaurants in that location and nearest suppliers of ingredients."
   ]
  },
  {
   "cell_type": "code",
   "execution_count": null,
   "metadata": {},
   "outputs": [],
   "source": []
  }
 ],
 "metadata": {
  "kernelspec": {
   "display_name": "Python 3",
   "language": "python",
   "name": "python3"
  },
  "language_info": {
   "codemirror_mode": {
    "name": "ipython",
    "version": 3
   },
   "file_extension": ".py",
   "mimetype": "text/x-python",
   "name": "python",
   "nbconvert_exporter": "python",
   "pygments_lexer": "ipython3",
   "version": "3.7.6"
  }
 },
 "nbformat": 4,
 "nbformat_minor": 4
}
